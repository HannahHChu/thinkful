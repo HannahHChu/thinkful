{
 "cells": [
  {
   "cell_type": "markdown",
   "metadata": {},
   "source": [
    "## Answers based on intuition:\n",
    "    - 10.5% positive\n",
    "    - 98%\n",
    "    - 90%\n",
    "    - 10%\n",
    "    \n",
    "## Using Bayes Rule\n",
    "    - .98*0.005 + .1*0.995 = 0.1044 = 10.44%\n",
    "    - 98%\n",
    "    - 90%\n",
    "    - 1-(.98*0.005 + .9*0.995)=.0996 = 9.96%\n"
   ]
  },
  {
   "cell_type": "code",
   "execution_count": null,
   "metadata": {},
   "outputs": [],
   "source": []
  }
 ],
 "metadata": {
  "kernelspec": {
   "display_name": "Python 3",
   "language": "python",
   "name": "python3"
  },
  "language_info": {
   "codemirror_mode": {
    "name": "ipython",
    "version": 3
   },
   "file_extension": ".py",
   "mimetype": "text/x-python",
   "name": "python",
   "nbconvert_exporter": "python",
   "pygments_lexer": "ipython3",
   "version": "3.7.1"
  }
 },
 "nbformat": 4,
 "nbformat_minor": 2
}
