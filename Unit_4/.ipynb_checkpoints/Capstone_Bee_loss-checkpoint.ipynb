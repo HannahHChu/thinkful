{
 "cells": [
  {
   "cell_type": "markdown",
   "metadata": {},
   "source": [
    "# Honey, they're Disappearing!\n",
    "## An analysis of bee colony loss from 2010-2016 in the United States\n",
    "\n",
    "### Capstone Analytic Report and Research Proposal -- Thinkful\n",
    "### HC 2019-02-16"
   ]
  },
  {
   "cell_type": "markdown",
   "metadata": {},
   "source": [
    "With the rise in uncontrolled bee deterrents such as insecticides, mites, and other pathogenic diseases, beekeeping has become unpopular over the past few decades in the US(Ellis et al., 2010; Potts et al., 2010; Morse, 2000). This trend is demonstrated by data collected from 2010-2016 on managed honey bee (Apis mellifera L.) colonies. Decline in honey beekeeping not only impacts agricultural communities economically, but also affects the pollination of many essential plants (Neumann & Carreck, 2010). The negative impacts of colony decline on the community and the pressure it places on the ecosystem have pushed the issue to the forefront of public attention, now popularly termed \"Colony Collapse Disorder\" (CCD)*. However, with the popularity of the problem, there has been widespread misinformation about the causes and effects of bee colony loss (Neumann & Carreck, 2010). However, a study done in 2009 by vanEngelsdorp and Meixner have shown that colony loss is not an uncommon occurence. This historical decline was found to be caused by a viral infection, named “Isle of Wight Disease” (Bailey and Ball, 1991; Bailey, 2002).\n",
    "\n",
    "Though a closer examination of this [dataset](https://bip2.beeinformed.org/hive-scales/config/about) provided by The Bee Informed Partnership (BIP) may not explain why bee colonies have been declining, it can help us better understand th relationship between beekeeping and bee colony health. \n",
    "\n",
    "(The BIP was initially funded by the United States Department of Agriculture (USDA) and the National Institute of Food and Agriculture (NIFA) but has now become non-for-profit organization that works with beekeepers nationally to promote the health of bees.)\n",
    "\n",
    "**Note: CCD is a term only used for HONEY bees (Genus: Apis). It does not apply to other bees such as bumblebees (Genus: Bombus), sweat bees (Genus: Lasioglossum), and many others.*"
   ]
  },
  {
   "cell_type": "code",
   "execution_count": 24,
   "metadata": {},
   "outputs": [],
   "source": [
    "import numpy as np # linear algebra\n",
    "import pandas as pd # data processing, CSV file I/O (e.g. pd.read_csv)\n",
    "import matplotlib.pyplot as plt\n",
    "from matplotlib import pylab\n",
    "from scipy import stats\n",
    "from sklearn import datasets, linear_model"
   ]
  },
  {
   "cell_type": "code",
   "execution_count": 8,
   "metadata": {},
   "outputs": [],
   "source": [
    "#import dataset\n",
    "df=pd.read_csv('Bee_Colony_Loss.csv')"
   ]
  },
  {
   "cell_type": "markdown",
   "metadata": {},
   "source": [
    "### Metadata:\n",
    "    - YEAR: year of bee survey\n",
    "    - SEASON: season survey was taken (all were annual surveys)\n",
    "    - STATE: state that bee survey was taken\n",
    "    - TOTAL_ANN_LOSS: the total annual loss by percentage based on previous year's total\n",
    "    - BEEKEEPERS: "
   ]
  },
  {
   "cell_type": "code",
   "execution_count": 21,
   "metadata": {},
   "outputs": [
    {
     "data": {
      "text/plain": [
       "['YEAR',\n",
       " 'SEASON',\n",
       " 'STATE',\n",
       " 'TOTAL_ANN_LOSS',\n",
       " 'BEEKEEPERS',\n",
       " 'STATE_BEEKEEPERS',\n",
       " 'COLONIES',\n",
       " 'STATE_COLONIES']"
      ]
     },
     "execution_count": 21,
     "metadata": {},
     "output_type": "execute_result"
    }
   ],
   "source": [
    "#dataset column names\n",
    "list(df)"
   ]
  },
  {
   "cell_type": "code",
   "execution_count": 17,
   "metadata": {},
   "outputs": [],
   "source": [
    "states=df.groupby('STATE')\n",
    "state=states['STATE'].unique()"
   ]
  },
  {
   "cell_type": "markdown",
   "metadata": {},
   "source": [
    "### References\n",
    "\n",
    "BAILEY, L (2002) The Isle of Wight Disease. Central Association of Bee-Keepers; Poole, UK. 11 pp.\n",
    "\n",
    "BAILEY, L; BALL, B V (1991) Honey bee pathology. Academic Press; London, UK. 193 pp.\n",
    "\n",
    "ELLIS, J D; EVANS, J D; PETTIS J S (2010). Colony losses, managed colony population decline and Colony Collapse Disorder in the United States. Journal of Apicultural Research 49(1): 134-136.DOI: 10.3896/IBRA.1.49.1.30\n",
    "\n",
    "MORSE R A, CALDERONE N W (2000). The value of honey bees as pollinators of U.S. crops in 2000. Bee Culture 128: 1–15.\n",
    "\n",
    "NEUMANN, P & CARRECK, N L (2010). Honey bee colony losses, Journal of Apicultural Research, 49:1, 1-6, DOI: 10.3896/IBRA.1.49.1.01: 2078-6913\n",
    "\n",
    "POTTS, S G; ROBERTS, S P M; DEAN, R; MARRIS, G; BROWN, M A; JONES, H R; NEUMANN, P; SETTELE, J (2010) Declines of managed honey bees and beekeepers in Europe. Journal of Apicultural Research 49(1): 15-22. DOI:10.3896/IBRA.1.49.1.02\n",
    "\n",
    "VANENGELSDORP, D; MEIXNER, M D (2009) A historical review of managed honey bee populations in Europe and the United States and the factors that may affect them. Journal of Invertebrate Pathology (in press). DOI 10.1016/j.jip.2009.06.011 VEJSNÆS, F; KRYGER, P (2010). Factors involved in the recent"
   ]
  },
  {
   "cell_type": "code",
   "execution_count": null,
   "metadata": {},
   "outputs": [],
   "source": []
  }
 ],
 "metadata": {
  "kernelspec": {
   "display_name": "Python 3",
   "language": "python",
   "name": "python3"
  },
  "language_info": {
   "codemirror_mode": {
    "name": "ipython",
    "version": 3
   },
   "file_extension": ".py",
   "mimetype": "text/x-python",
   "name": "python",
   "nbconvert_exporter": "python",
   "pygments_lexer": "ipython3",
   "version": "3.7.1"
  }
 },
 "nbformat": 4,
 "nbformat_minor": 2
}
