{
 "cells": [
  {
   "cell_type": "markdown",
   "metadata": {},
   "source": [
    "## Technical Evaluation\n",
    "\n",
    "The below code is for the Unit 4 technical evaluation.\n",
    "The data set used can be found [here.]https://tf-curricula-prod.s3.amazonaws.com/assets/plane_crashes_data.csv\n"
   ]
  },
  {
   "cell_type": "code",
   "execution_count": 1,
   "metadata": {},
   "outputs": [],
   "source": [
    "#Import modules\n",
    "import numpy as np\n",
    "import pandas as pd\n",
    "import scipy\n",
    "import matplotlib.pyplot as plt\n",
    "import math"
   ]
  },
  {
   "cell_type": "code",
   "execution_count": 18,
   "metadata": {},
   "outputs": [],
   "source": [
    "#Import data\n",
    "df=pd.read_csv('plane_crashes_data.csv')"
   ]
  },
  {
   "cell_type": "code",
   "execution_count": 3,
   "metadata": {},
   "outputs": [
    {
     "data": {
      "text/plain": [
       "['month',\n",
       " 'hour',\n",
       " 'year',\n",
       " 'location',\n",
       " 'operator',\n",
       " 'route',\n",
       " 'type',\n",
       " 'aboard',\n",
       " 'fatalities',\n",
       " 'summary']"
      ]
     },
     "execution_count": 3,
     "metadata": {},
     "output_type": "execute_result"
    }
   ],
   "source": [
    "#See column names\n",
    "list(df)"
   ]
  },
  {
   "cell_type": "markdown",
   "metadata": {},
   "source": [
    "#### Question:\n",
    "What is the mean for number of people killed in plane crashes for the years 1980 to 2009 (inclusive of both years, rounded to the nearest 100th decimal place)?"
   ]
  },
  {
   "cell_type": "code",
   "execution_count": 4,
   "metadata": {},
   "outputs": [
    {
     "name": "stdout",
     "output_type": "stream",
     "text": [
      "The mean number of people killed in plane crashes for the years 1980-2009 is 24.93\n"
     ]
    }
   ],
   "source": [
    "#new df with years 1980-2009 and fatalities\n",
    "df1 = df[['year','fatalities']]\n",
    "df2=df1[df1['year'] >= 1980]\n",
    "df2.describe()\n",
    "mn=np.mean(df2['fatalities'])\n",
    "print('The mean number of people killed in plane crashes for the years 1980-2009 is', round(mn, 2))"
   ]
  },
  {
   "cell_type": "markdown",
   "metadata": {},
   "source": [
    "#### Question:\n",
    "\n",
    "For the entire time period (1950 to 2009), which month has seen the most plane crashes?"
   ]
  },
  {
   "cell_type": "code",
   "execution_count": 5,
   "metadata": {},
   "outputs": [
    {
     "name": "stdout",
     "output_type": "stream",
     "text": [
      "    month  fatalities\n",
      "0       1         255\n",
      "1       2         209\n",
      "2       3         251\n",
      "3       4         204\n",
      "4       5         181\n",
      "5       6         202\n",
      "6       7         234\n",
      "7       8         239\n",
      "8       9         228\n",
      "9      10         224\n",
      "10     11         230\n",
      "11     12         252\n"
     ]
    },
    {
     "data": {
      "text/html": [
       "<div>\n",
       "<style scoped>\n",
       "    .dataframe tbody tr th:only-of-type {\n",
       "        vertical-align: middle;\n",
       "    }\n",
       "\n",
       "    .dataframe tbody tr th {\n",
       "        vertical-align: top;\n",
       "    }\n",
       "\n",
       "    .dataframe thead th {\n",
       "        text-align: right;\n",
       "    }\n",
       "</style>\n",
       "<table border=\"1\" class=\"dataframe\">\n",
       "  <thead>\n",
       "    <tr style=\"text-align: right;\">\n",
       "      <th></th>\n",
       "      <th>month</th>\n",
       "      <th>fatalities</th>\n",
       "    </tr>\n",
       "  </thead>\n",
       "  <tbody>\n",
       "    <tr>\n",
       "      <th>0</th>\n",
       "      <td>1</td>\n",
       "      <td>255</td>\n",
       "    </tr>\n",
       "  </tbody>\n",
       "</table>\n",
       "</div>"
      ],
      "text/plain": [
       "   month  fatalities\n",
       "0      1         255"
      ]
     },
     "execution_count": 5,
     "metadata": {},
     "output_type": "execute_result"
    }
   ],
   "source": [
    "#group by month and then find month with the most fatalities\n",
    "df_mon=df.groupby('month').count()['fatalities'].reset_index()\n",
    "maxx=max(df_mon)\n",
    "print(df_mon)\n",
    "df_mon.loc[['month' == maxx]]"
   ]
  },
  {
   "cell_type": "markdown",
   "metadata": {},
   "source": [
    "#### Question:\n",
    "\n",
    "What is the highest number of fatalities in a single crash?"
   ]
  },
  {
   "cell_type": "code",
   "execution_count": 6,
   "metadata": {},
   "outputs": [
    {
     "name": "stdout",
     "output_type": "stream",
     "text": [
      "The highest number of fatalities in a single crash is 583\n"
     ]
    }
   ],
   "source": [
    "#place fatalities into a variable and find maximum no.\n",
    "ftl=df['fatalities']\n",
    "max_ftl=max(ftl)\n",
    "print(\"The highest number of fatalities in a single crash is\", max_ftl)"
   ]
  },
  {
   "cell_type": "markdown",
   "metadata": {},
   "source": [
    "#### Question:\n",
    "\n",
    "What percentage of crashed flights have had 1 or more fatalities?"
   ]
  },
  {
   "cell_type": "code",
   "execution_count": 7,
   "metadata": {},
   "outputs": [
    {
     "name": "stdout",
     "output_type": "stream",
     "text": [
      "98.19 percent of crashed flights have had 1 or more fatalities\n"
     ]
    }
   ],
   "source": [
    "#Separate out the number of crashed flights with 1 or more fatalities\n",
    "ftl_=df[df['fatalities'] >= 1]\n",
    "\n",
    "#Count the number of flights with 1 or more fatalities\n",
    "no_ftl_=len(ftl_)\n",
    "\n",
    "#Separate our number of all fatalities\n",
    "ftl=df['fatalities']\n",
    "\n",
    "#Count the number of all flights\n",
    "no_ftl=len(ftl)\n",
    "\n",
    "#Find the percentage\n",
    "per_ftl=(no_ftl_/no_ftl)*100\n",
    "print(round(per_ftl, 2), \"percent of crashed flights have had 1 or more fatalities\")"
   ]
  },
  {
   "cell_type": "markdown",
   "metadata": {},
   "source": [
    "#### Question:\n",
    "\n",
    "What is the average percent of passengers (inclusive of crew) killed per plane crash for the entire period?"
   ]
  },
  {
   "cell_type": "code",
   "execution_count": 22,
   "metadata": {},
   "outputs": [
    {
     "name": "stdout",
     "output_type": "stream",
     "text": [
      "The average percent of passengers killed per plane crash is 82.31\n"
     ]
    }
   ],
   "source": [
    "total=df['fatalities']/df['aboard']\n",
    "mn=np.mean(total)*100\n",
    "print(\"The average percent of passengers killed per plane crash is\", round(mn,2) )"
   ]
  }
 ],
 "metadata": {
  "kernelspec": {
   "display_name": "Python 3",
   "language": "python",
   "name": "python3"
  },
  "language_info": {
   "codemirror_mode": {
    "name": "ipython",
    "version": 3
   },
   "file_extension": ".py",
   "mimetype": "text/x-python",
   "name": "python",
   "nbconvert_exporter": "python",
   "pygments_lexer": "ipython3",
   "version": "3.7.1"
  }
 },
 "nbformat": 4,
 "nbformat_minor": 2
}
