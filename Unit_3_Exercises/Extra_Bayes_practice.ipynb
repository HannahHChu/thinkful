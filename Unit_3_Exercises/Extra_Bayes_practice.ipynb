{
 "cells": [
  {
   "cell_type": "markdown",
   "metadata": {},
   "source": [
    "Questions from: http://stony.me/statistics-for-beginners-bayes-rule-4/"
   ]
  },
  {
   "cell_type": "markdown",
   "metadata": {},
   "source": [
    "# 1. Aircraft emergency locator transmitter\n",
    "An aircraft emergency locator transmitter (ELT) is a device designed to transmit a signal in the case of a crash. The Altigauge Manufacturing Company makes 80% of the ELTs, the Bryant Company makes 15% of them, and the Chartair Company makes the other 5%. The ELTs made by Altigauge have a 4% rate of defects, the Bryant ELTs have a 6% rate of defects, and the Chartair ELTs have a 9% rate of defects (which helps to explain why Chartair has the lowest market share).\n",
    "\n",
    "1. If an ELT is randomly selected from the general population of all ELTs, find the probability that it was made by the Altigauge Manufacturing Company.\n",
    "2. If a randomly selected ELT is then tested and is found to be defective, find the probability that it was made by the Altigauge Manufacturing Company."
   ]
  },
  {
   "cell_type": "markdown",
   "metadata": {},
   "source": [
    "Note: \n",
    "   - 80% ELT by AMC -> 4% defected\n",
    "   - 15% ELT by BC -> 6% defected\n",
    "   - 5% ELT by CC -> 9% defected"
   ]
  },
  {
   "cell_type": "markdown",
   "metadata": {},
   "source": [
    "1. \n",
    "       0.8 because 80% of all ELTs are made by ACM"
   ]
  },
  {
   "cell_type": "markdown",
   "metadata": {},
   "source": [
    "2. Using Bayes rule:\n",
    "        P(defective by AMC) / P(defective by AMC) + P(defective by BC) + P(defective by CC)"
   ]
  },
  {
   "cell_type": "code",
   "execution_count": 1,
   "metadata": {},
   "outputs": [
    {
     "name": "stdout",
     "output_type": "stream",
     "text": [
      "The probability that a randomly selected ELT is found to be defective and made by AMC is 0.703\n"
     ]
    }
   ],
   "source": [
    "#assign variables\n",
    "p_def_ACM=(0.8*0.04)\n",
    "p_def_BC=(0.15*0.06)\n",
    "p_def_CC=(0.05*0.09)\n",
    "\n",
    "#Bayes Rule\n",
    "answer=(p_def_ACM)/((p_def_ACM+p_def_BC+p_def_CC))\n",
    "print('The probability that a randomly selected ELT is found to be defective and made by AMC is', round(answer,3))"
   ]
  },
  {
   "cell_type": "markdown",
   "metadata": {},
   "source": [
    "# 2. Ingrowing toenail\n",
    "You go to see the doctor about an ingrowing toenail. The doctor selects you at random to have a blood test for swine flu, which for the purposes of this exercise we will say is currently suspected to affect 1 in 10,000 people in Australia. The test is 99% accurate, in the sense that the probability of a false positive is 1%. The probability of a false negative is zero. You test positive. \n",
    "\n",
    "1. What is the new probability that you have swine flu?\n",
    "\n",
    "2. Now imagine that you went to a friend’s wedding in Mexico recently, and (for the purposes of this exercise) it is know that 1 in 200 people who visited Mexico recently come back with swine flu. Given the same test result as above, what should your revised estimate be for the probability you have the disease?"
   ]
  },
  {
   "cell_type": "markdown",
   "metadata": {},
   "source": [
    "1. Because you have already tested positive:\n",
    "\n",
    "        P(inf|pos) = P(pos|inf)*P(already inf)/((P(pos|inf)*P(already inf))+ (P(pos not inf)*P(not inf))"
   ]
  },
  {
   "cell_type": "code",
   "execution_count": 9,
   "metadata": {},
   "outputs": [
    {
     "name": "stdout",
     "output_type": "stream",
     "text": [
      "The probability that you have swine flu given the positive test is 0.009901970492127933\n"
     ]
    }
   ],
   "source": [
    "p_posinf=0.9999 # probability of not being infected\n",
    "p_pos=0.0001 # probability of being infected\n",
    "p_inf=1 # probability of having swine flu & test positive\n",
    "p_notinf_pos=0.01 # false positive\n",
    "\n",
    "ans=((p_pos)*(p_inf))/((p_pos*p_inf)+(p_notinf_pos*p_posinf))\n",
    "print(\"The probability that you have swine flu given the positive test is\", ans)"
   ]
  },
  {
   "cell_type": "markdown",
   "metadata": {},
   "source": [
    "2. Given that Mexico's chance of having swine flu is 0.005:"
   ]
  },
  {
   "cell_type": "code",
   "execution_count": 11,
   "metadata": {},
   "outputs": [
    {
     "name": "stdout",
     "output_type": "stream",
     "text": [
      "The probability that you have swine flu given the positive test is 0.33444816053511706\n"
     ]
    }
   ],
   "source": [
    "p_posinfm=0.995 # probability of not being infected\n",
    "p_posm=0.005 # probability of being infected\n",
    "p_inf=1 # probability of having swine flu & test positive\n",
    "p_notinf_pos=0.01 # false positive\n",
    "\n",
    "res=((p_posm)*(p_inf))/((p_posm*p_inf)+(p_notinf_pos*p_posinfm))\n",
    "print(\"The probability that you have swine flu given the positive test is\", res)"
   ]
  },
  {
   "cell_type": "markdown",
   "metadata": {},
   "source": [
    "# 3. Trip to Las Vegas\n",
    "Imagine that, while in Mexico, you also took a side trip to Las Vegas, to pay homage to the TV show CSI. Late one night in a bar you meet a guy who claims to know that in the casino at the Tropicana there are two sorts of slot machines: one that pays out 10% of the time, and one that pays out 20% of the time [note these numbers may not be very realistic]. The two types of machines are coloured red and blue. The only problem is, the guy is so drunk he can’t quite remember which colour corresponds to which kind of machine. Unfortunately, that night the guy becomes the vic in the next CSI episode, so you are unable to ask him again when he’s sober\n",
    "\n",
    "Next day you go to the Tropicana to find out more. You find a red and a blue machine side by side. You toss a coin to decide which machine to try first; based on this you then put the coin into the red machine. It doesn’t pay out. \n",
    "\n",
    "1. How should you update your estimate of the probability that this is the machine you’re interested in? \n",
    "2. What if it had paid out - what would be your new estimate then?"
   ]
  },
  {
   "cell_type": "markdown",
   "metadata": {},
   "source": [
    "1. Given that the red vs blue -- 0.5 probability either one has the higher payout\n",
    "   \n",
    "   Knowing red did not pay out, 0.8 chance that would have happened:"
   ]
  },
  {
   "cell_type": "code",
   "execution_count": 14,
   "metadata": {},
   "outputs": [
    {
     "name": "stdout",
     "output_type": "stream",
     "text": [
      "Probability that red is the machine you are interested in is 0.471\n"
     ]
    }
   ],
   "source": [
    "r=(0.8*0.5)/((0.8*0.5)+(0.9*0.5))\n",
    "print(\"Probability that red is the machine you are interested in is\", round(r, 3))"
   ]
  },
  {
   "cell_type": "markdown",
   "metadata": {},
   "source": [
    "2. If red did pay out, the probability of that would change to 0.2, so: "
   ]
  },
  {
   "cell_type": "code",
   "execution_count": 15,
   "metadata": {},
   "outputs": [
    {
     "name": "stdout",
     "output_type": "stream",
     "text": [
      "Probability that red is the machine you are interested in is 0.667\n"
     ]
    }
   ],
   "source": [
    "r2=(0.2*0.5)/((0.2*0.5)+(0.1*0.5))\n",
    "print(\"Probability that red is the machine you are interested in is\", round(r2, 3))"
   ]
  },
  {
   "cell_type": "markdown",
   "metadata": {},
   "source": [
    "# 4. Genetic defects\n",
    "1% of people have a certain genetic defect.\n",
    "\n",
    "90% of tests for the gene detect the defect (true positives).\n",
    "\n",
    "9.6% of the tests are false positives.\n",
    "\n",
    "1. If a person gets a positive test result, what are the odds they actually have the genetic defect?\n",
    "\n",
    "        P(has defect)/P(has defect and tests pos)+P(doesnt have defect and tests pos)"
   ]
  },
  {
   "cell_type": "code",
   "execution_count": 24,
   "metadata": {},
   "outputs": [
    {
     "name": "stdout",
     "output_type": "stream",
     "text": [
      "The probability the person has the genetic defect is 0.087\n"
     ]
    }
   ],
   "source": [
    "a=(0.01*0.9)/(0.01*0.9+0.99*0.096)\n",
    "print(\"The probability the person has the genetic defect is\", round(a,3))"
   ]
  },
  {
   "cell_type": "markdown",
   "metadata": {},
   "source": [
    "# 5. A test for cancer\n",
    "Given the following statistics, what is the probability that a woman has cancer if she has a positive mammogram result?\n",
    "\n",
    "1. One percent of women over 50 have breast cancer.\n",
    "2. Ninety percent of women who have breast cancer test positive on mammograms.\n",
    "3. Eight percent of women will have false positives."
   ]
  },
  {
   "cell_type": "code",
   "execution_count": 25,
   "metadata": {},
   "outputs": [
    {
     "name": "stdout",
     "output_type": "stream",
     "text": [
      "The probability the woman has breast cancer is 0.102\n"
     ]
    }
   ],
   "source": [
    "a2=(0.01*0.9)/(0.01*0.9+0.99*0.08)\n",
    "print(\"The probability the woman has breast cancer is\", round(a2, 3))"
   ]
  },
  {
   "cell_type": "code",
   "execution_count": null,
   "metadata": {},
   "outputs": [],
   "source": []
  }
 ],
 "metadata": {
  "kernelspec": {
   "display_name": "Python 3",
   "language": "python",
   "name": "python3"
  },
  "language_info": {
   "codemirror_mode": {
    "name": "ipython",
    "version": 3
   },
   "file_extension": ".py",
   "mimetype": "text/x-python",
   "name": "python",
   "nbconvert_exporter": "python",
   "pygments_lexer": "ipython3",
   "version": "3.7.1"
  }
 },
 "nbformat": 4,
 "nbformat_minor": 2
}
