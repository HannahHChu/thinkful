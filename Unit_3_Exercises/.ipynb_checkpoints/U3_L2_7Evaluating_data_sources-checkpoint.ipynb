{
 "cells": [
  {
   "cell_type": "markdown",
   "metadata": {},
   "source": [
    "## 1: Data Source: Amsterdam availability data scraped from AirBnB on December 24th. Question: What are the popular neighborhoods in Amsterdam?\n",
    "    AirBnb is a very limited sample size. Not all visitors who aren't using AirBnb, and especially not all natives are included. To adjust this problem, either include data from other services such as hotels, hostels, and apps similar to AirBnb, or change the question to \"What are popular neighborhoods for AirBnb in Amsterdam?\"\n",
    "    \n",
    "    \n",
    "## 2: Data Source: Mental health services use on September 12, 2001 in San Francisco, CA and New York City, NY. Question: How do patterns of mental health service use vary between cities?\n",
    "     The data is only from one day and it was the day after the 9/11 terrorist attacks in NYC. I would expect mental health service use to be extremely high in NYC after the traumatic event. To avoid this statistical anomaly, include data throughout the year or even data from a few years. \n",
    "\n",
    "## 3: Data Source: Armenian Pub Survey. Question: What are the most common reasons Armenians visit local pubs?\n",
    "    The majority of the respondents were students so their reasons are probably more closely related and limited. To readjust, include other pub-goers. \n",
    "\n"
   ]
  },
  {
   "cell_type": "code",
   "execution_count": null,
   "metadata": {},
   "outputs": [],
   "source": []
  }
 ],
 "metadata": {
  "kernelspec": {
   "display_name": "Python 3",
   "language": "python",
   "name": "python3"
  },
  "language_info": {
   "codemirror_mode": {
    "name": "ipython",
    "version": 3
   },
   "file_extension": ".py",
   "mimetype": "text/x-python",
   "name": "python",
   "nbconvert_exporter": "python",
   "pygments_lexer": "ipython3",
   "version": "3.7.1"
  }
 },
 "nbformat": 4,
 "nbformat_minor": 2
}
