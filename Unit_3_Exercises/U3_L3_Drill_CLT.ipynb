{
 "cells": [
  {
   "cell_type": "code",
   "execution_count": 1,
   "metadata": {},
   "outputs": [],
   "source": [
    "import numpy as np\n",
    "import pandas as pd\n",
    "import scipy\n",
    "import matplotlib.pyplot as plt"
   ]
  },
  {
   "cell_type": "code",
   "execution_count": 25,
   "metadata": {},
   "outputs": [],
   "source": [
    "pop1 = np.random.binomial(10, 0.2, 10000)\n",
    "pop2 = np.random.binomial(10,0.5, 10000)\n",
    "\n",
    "#Take a sample of 100 \n",
    "samp1 = np.random.choice(pop1, 100, replace=True)\n",
    "samp2 = np.random.choice(pop2, 100, replace=True)"
   ]
  },
  {
   "cell_type": "code",
   "execution_count": 8,
   "metadata": {},
   "outputs": [
    {
     "name": "stdout",
     "output_type": "stream",
     "text": [
      "1.99\n",
      "4.99\n",
      "1.2287798826478238\n",
      "1.584266391740985\n"
     ]
    }
   ],
   "source": [
    "print(samp1.mean())\n",
    "print(samp2.mean())\n",
    "print(samp1.std())\n",
    "print(samp2.std())"
   ]
  },
  {
   "cell_type": "markdown",
   "metadata": {},
   "source": [
    "# Tasks"
   ]
  },
  {
   "cell_type": "markdown",
   "metadata": {},
   "source": [
    "1. Increase the size of your samples from 100 to 1000, then calculate the means and standard deviations for your new samples and create histograms for each. Repeat this again, decreasing the size of your samples to 20. What values change, and what remain the same?"
   ]
  },
  {
   "cell_type": "code",
   "execution_count": 19,
   "metadata": {},
   "outputs": [],
   "source": [
    "#Expect the mean remain about the same and the std to be higher according to CLT.\n",
    "\n",
    "samp3 = np.random.choice(pop1, 1000, replace=True)\n",
    "samp4 = np.random.choice(pop2, 1000, replace=True)"
   ]
  },
  {
   "cell_type": "code",
   "execution_count": 20,
   "metadata": {},
   "outputs": [
    {
     "name": "stdout",
     "output_type": "stream",
     "text": [
      "2.028\n",
      "4.946\n",
      "1.260641106738948\n",
      "1.60283623617636\n"
     ]
    }
   ],
   "source": [
    "print(samp3.mean())\n",
    "print(samp4.mean())\n",
    "print(samp3.std())\n",
    "print(samp4.std())"
   ]
  },
  {
   "cell_type": "code",
   "execution_count": 18,
   "metadata": {},
   "outputs": [
    {
     "data": {
      "image/png": "[encoded data removed]",
      "text/plain": [
       "<Figure size 432x288 with 1 Axes>"
      ]
     },
     "metadata": {
      "needs_background": "light"
     },
     "output_type": "display_data"
    }
   ],
   "source": [
    "plt.hist(samp3, alpha=0.5, label='sample 3')\n",
    "plt.hist(samp4, alpha=0.5, label='sample 4')\n",
    "plt.legend(loc='upper right')\n",
    "plt.title(\"sample sizes of 1000\")\n",
    "plt.show()"
   ]
  },
  {
   "cell_type": "code",
   "execution_count": 21,
   "metadata": {},
   "outputs": [
    {
     "name": "stdout",
     "output_type": "stream",
     "text": [
      "2.2\n",
      "5.25\n",
      "1.16619037896906\n",
      "1.6393596310755\n"
     ]
    }
   ],
   "source": [
    "# Sample size of 20\n",
    "samp5 = np.random.choice(pop1, 20, replace=True)\n",
    "samp6 = np.random.choice(pop2, 20, replace=True)\n",
    "\n",
    "print(samp5.mean())\n",
    "print(samp6.mean())\n",
    "print(samp5.std())\n",
    "print(samp6.std())"
   ]
  },
  {
   "cell_type": "code",
   "execution_count": 23,
   "metadata": {},
   "outputs": [
    {
     "data": {
      "image/png": "[encoded data removed]",
      "text/plain": [
       "<Figure size 432x288 with 1 Axes>"
      ]
     },
     "metadata": {
      "needs_background": "light"
     },
     "output_type": "display_data"
    }
   ],
   "source": [
    "plt.hist(samp5, alpha=0.5, label='sample 5')\n",
    "plt.hist(samp6, alpha=0.5, label='sample 6')\n",
    "plt.legend(loc='upper right')\n",
    "plt.title(\"sample sizes of 20\")\n",
    "plt.show()"
   ]
  },
  {
   "cell_type": "markdown",
   "metadata": {},
   "source": [
    "2. Change the probability value (p in the NumPy documentation) for pop1 to 0.3, then take new samples and compute the t-statistic and p-value. Then change the probability value p for group 1 to 0.4, and do it again. What changes, and why?"
   ]
  },
  {
   "cell_type": "code",
   "execution_count": 34,
   "metadata": {},
   "outputs": [
    {
     "name": "stdout",
     "output_type": "stream",
     "text": [
      "2.83\n",
      "4.69\n",
      "1.5300653580811507\n",
      "1.6413104520473873\n",
      "Difference b/w sample means: 1.8600000000000003\n",
      "SE: 0.22438805672316875\n",
      "T-value: 8.28921123148151\n",
      "Ttest_indResult(statistic=8.247661038847195, pvalue=2.26158342863203e-14)\n"
     ]
    }
   ],
   "source": [
    "# With 0.3 probability\n",
    "pop3 = np.random.binomial(10, 0.3, 10000)\n",
    "pop2 = np.random.binomial(10,0.5, 10000)\n",
    "\n",
    "#Take a sample of 100 \n",
    "samp7 = np.random.choice(pop3, 100, replace=True)\n",
    "samp8 = np.random.choice(pop2, 100, replace=True)\n",
    "\n",
    "# Mean & SD\n",
    "print(samp7.mean())\n",
    "print(samp8.mean())\n",
    "print(samp7.std())\n",
    "print(samp8.std())\n",
    "\n",
    "# Compute the difference between the two sample means.\n",
    "diff=samp8.mean( ) -samp7.mean()\n",
    "print(\"Difference b/w sample means:\", diff)\n",
    "\n",
    "# SE\n",
    "size1 = np.array([len(samp7), len(samp8)])\n",
    "sd1 = np.array([samp7.std(), samp8.std()])\n",
    "\n",
    "# The squared standard deviations are divided by\n",
    "#the sample size and summed, then we take\n",
    "# the square root of the sum.\n",
    "diff_se1 = (sum(sd1 ** 2 / size1)) ** 0.5\n",
    "print(\"SE:\", diff_se1)\n",
    "\n",
    "#The difference between the means divided by the standard error: T-value.\n",
    "print(\"T-value:\", diff/diff_se1)\n",
    "\n",
    "# T Test\n",
    "from scipy.stats import ttest_ind\n",
    "print(ttest_ind(samp8, samp7, equal_var=False))"
   ]
  },
  {
   "cell_type": "code",
   "execution_count": 35,
   "metadata": {},
   "outputs": [
    {
     "name": "stdout",
     "output_type": "stream",
     "text": [
      "4.07\n",
      "5.0\n",
      "1.6386274744431695\n",
      "1.6309506430300091\n",
      "Difference b/w sample means: 0.9299999999999997\n",
      "SE: 0.23119472312317166\n",
      "T-value: 4.022583160362754\n",
      "Ttest_indResult(statistic=4.002419709277584, pvalue=8.858263056597635e-05)\n"
     ]
    }
   ],
   "source": [
    "# With 0.4 probability\n",
    "pop4 = np.random.binomial(10, 0.4, 10000)\n",
    "pop2 = np.random.binomial(10,0.5, 10000)\n",
    "\n",
    "#Take a sample of 100 \n",
    "samp9 = np.random.choice(pop4, 100, replace=True)\n",
    "samp10 = np.random.choice(pop2, 100, replace=True)\n",
    "\n",
    "# Mean & SD\n",
    "print(samp9.mean())\n",
    "print(samp10.mean())\n",
    "print(samp9.std())\n",
    "print(samp10.std())\n",
    "\n",
    "# Compute the difference between the two sample means.\n",
    "diff2=samp10.mean( ) -samp9.mean()\n",
    "print(\"Difference b/w sample means:\", diff2)\n",
    "\n",
    "# SE\n",
    "size2 = np.array([len(samp9), len(samp10)])\n",
    "sd2 = np.array([samp9.std(), samp10.std()])\n",
    "\n",
    "# The squared standard deviations are divided by\n",
    "#the sample size and summed, then we take\n",
    "# the square root of the sum.\n",
    "diff_se2 = (sum(sd2 ** 2 / size2)) ** 0.5\n",
    "print(\"SE:\", diff_se2)\n",
    "\n",
    "#The difference between the means divided by the standard error: T-value.\n",
    "print(\"T-value:\", diff2/diff_se2)\n",
    "\n",
    "# T Test\n",
    "from scipy.stats import ttest_ind\n",
    "print(ttest_ind(samp10, samp9, equal_var=False))"
   ]
  },
  {
   "cell_type": "markdown",
   "metadata": {},
   "source": [
    "The T-value is lower and the p-value is higher with the larger probability. This is because the samples are more similar with larger probability."
   ]
  },
  {
   "cell_type": "markdown",
   "metadata": {},
   "source": [
    "3. Change the distribution of your populations from binomial to a distribution of your choice. Do the sample mean values still accurately represent the population values?"
   ]
  },
  {
   "cell_type": "code",
   "execution_count": 37,
   "metadata": {},
   "outputs": [
    {
     "name": "stdout",
     "output_type": "stream",
     "text": [
      "3.92\n",
      "5.09\n",
      "1.585433694608513\n",
      "1.7441043546760613\n",
      "Difference b/w sample means: 3.13\n",
      "SE: 0.23570108188126757\n",
      "T-value: 13.2795317485081\n",
      "Ttest_indResult(statistic=4.939032490318262, pvalue=1.6758861078518301e-06)\n"
     ]
    }
   ],
   "source": [
    "# With 0.4 probability\n",
    "pop11 = np.random.negative_binomial(10, 0.4, 10000)\n",
    "pop12 = np.random.negative_binomial(10,0.5, 10000)\n",
    "\n",
    "#Take a sample of 100 \n",
    "samp11 = np.random.choice(pop4, 100, replace=True)\n",
    "samp12 = np.random.choice(pop2, 100, replace=True)\n",
    "\n",
    "# Mean & SD\n",
    "print(samp11.mean())\n",
    "print(samp12.mean())\n",
    "print(samp11.std())\n",
    "print(samp12.std())\n",
    "\n",
    "# Compute the difference between the two sample means.\n",
    "diff3=samp12.mean( ) -samp1.mean()\n",
    "print(\"Difference b/w sample means:\", diff3)\n",
    "\n",
    "# SE\n",
    "size3 = np.array([len(samp11), len(samp12)])\n",
    "sd3 = np.array([samp11.std(), samp12.std()])\n",
    "\n",
    "# The squared standard deviations are divided by\n",
    "#the sample size and summed, then we take\n",
    "# the square root of the sum.\n",
    "diff_se3 = (sum(sd3 ** 2 / size3)) ** 0.5\n",
    "print(\"SE:\", diff_se3)\n",
    "\n",
    "#The difference between the means divided by the standard error: T-value.\n",
    "print(\"T-value:\", diff3/diff_se3)\n",
    "\n",
    "# T Test\n",
    "from scipy.stats import ttest_ind\n",
    "print(ttest_ind(samp12, samp11, equal_var=False))"
   ]
  },
  {
   "cell_type": "markdown",
   "metadata": {},
   "source": [
    "Regardless of which distribution, the CLT says the statistics should still work as long as there is a large sample size."
   ]
  }
 ],
 "metadata": {
  "kernelspec": {
   "display_name": "Python 3",
   "language": "python",
   "name": "python3"
  },
  "language_info": {
   "codemirror_mode": {
    "name": "ipython",
    "version": 3
   },
   "file_extension": ".py",
   "mimetype": "text/x-python",
   "name": "python",
   "nbconvert_exporter": "python",
   "pygments_lexer": "ipython3",
   "version": "3.7.1"
  }
 },
 "nbformat": 4,
 "nbformat_minor": 2
}
