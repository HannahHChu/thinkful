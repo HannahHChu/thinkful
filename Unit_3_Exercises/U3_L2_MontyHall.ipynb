{
 "cells": [
  {
   "cell_type": "markdown",
   "metadata": {},
   "source": [
    "#### Problem Set-Up\n",
    "\n",
    "| ---------- | Door 1 | Door 2 | Door 3 |\n",
    "| ---------- | ------ | ------ | ------ |\n",
    "| Scenario 1 |  car   |  empty | empty  |\n",
    "| Scenario 2 |  empty |  car   | empty  |\n",
    "| Scenario 3 |  empty |  empty | car    |"
   ]
  },
  {
   "cell_type": "markdown",
   "metadata": {},
   "source": [
    "I would switch doors because using Bayes' rule, with the knowledge of the dud/empty door chosen by the host, by switching we would give ourselves a 2/3 chance of choosing the car. In Scenario 1, If I choose door 1, and the host opens door 3, and then I switch, it would be a loss. But in both scenario 2 and 3, you if I change my original choice of door, I win the car. "
   ]
  },
  {
   "cell_type": "code",
   "execution_count": null,
   "metadata": {},
   "outputs": [],
   "source": []
  }
 ],
 "metadata": {
  "kernelspec": {
   "display_name": "Python 3",
   "language": "python",
   "name": "python3"
  },
  "language_info": {
   "codemirror_mode": {
    "name": "ipython",
    "version": 3
   },
   "file_extension": ".py",
   "mimetype": "text/x-python",
   "name": "python",
   "nbconvert_exporter": "python",
   "pygments_lexer": "ipython3",
   "version": "3.7.1"
  }
 },
 "nbformat": 4,
 "nbformat_minor": 2
}
