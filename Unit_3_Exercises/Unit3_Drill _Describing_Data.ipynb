{
 "cells": [
  {
   "cell_type": "code",
   "execution_count": null,
   "metadata": {},
   "outputs": [],
   "source": [
    "# Question 1\n",
    "import pandas as pd\n",
    "import numpy as np\n",
    "from scipy import stats\n",
    "import statistics\n",
    "import matplotlib.pyplot as plt\n",
    "\n",
    "##create blank data frame with name & age\n",
    "df = pd.DataFrame()\n",
    "\n",
    "##Populate it with data\n",
    "df['name'] = [\"Greg\", \"Marcia\", \"Peter\", \"Jan\", \"Bobby\", \"Cindy\", \"Oliver\"]\n",
    "df['age'] = [14, 12, 11, 10, 8, 6, 8]\n",
    "\n",
    "###Mean\n",
    "print(\"mean=\",np.mean(df['age']))\n",
    "###Median\n",
    "print(\"median=\",np.median(df['age']))\n",
    "###Mode\n",
    "print(\"mode=\",statistics.mode(df['age']))\n",
    "###Variance\n",
    "print(\"variance=\",np.var(df.age))\n",
    "###SD\n",
    "print(\"sd=\",np.std(df.age))\n",
    "###SE\n",
    "print(\"se=\", np.std(df['age'] ,ddof=1) / np.sqrt(len(df['age'])))"
   ]
  },
  {
   "cell_type": "code",
   "execution_count": 53,
   "metadata": {},
   "outputs": [
    {
     "name": "stdout",
     "output_type": "stream",
     "text": [
      "mean= 10.0\n",
      "median= 10.0\n",
      "mode= 8\n",
      "variance= 5.428571428571429\n",
      "sd= 2.32992949004287\n",
      "se= 0.9511897312113418\n"
     ]
    }
   ],
   "source": [
    "# Question 2\n",
    "###I would probably choose mean because 'age' is a continuous variable. The mean most accurately describes\n",
    "###the data set, especially because there are no outliers. However, median and mean are very close, so both\n",
    "###could be used. I would not use mode because the age of 8 skews toward the low end of the data.\n",
    "\n",
    "\n",
    "# Question 3\n",
    "##Populate with new data\n",
    "df2 = pd.DataFrame()\n",
    "df2['name'] = [\"Greg\", \"Marcia\", \"Peter\", \"Jan\", \"Bobby\", \"Cindy\", \"Oliver\"]\n",
    "df2['age'] = [14, 12, 11, 10, 8, 7, 8]\n",
    "\n",
    "###Mean\n",
    "print(\"mean=\",np.mean(df2['age']))\n",
    "###Median\n",
    "print(\"median=\",np.median(df2['age']))\n",
    "###Mode\n",
    "print(\"mode=\",statistics.mode(df2['age']))\n",
    "###Variance\n",
    "print(\"variance=\",np.var(df2.age))\n",
    "###SD\n",
    "print(\"sd=\",np.std(df2.age))\n",
    "###SE\n",
    "print(\"se=\", np.std(df2['age'] ,ddof=1) / np.sqrt(len(df2['age'])))"
   ]
  },
  {
   "cell_type": "code",
   "execution_count": 28,
   "metadata": {},
   "outputs": [
    {
     "data": {
      "text/plain": [
       "Text(0.5, 1.0, 'Set 2')"
      ]
     },
     "execution_count": 28,
     "metadata": {},
     "output_type": "execute_result"
    },
    {
     "data": {
      "image/png": "[encoded data removed]",
      "text/plain": [
       "<Figure size 720x360 with 2 Axes>"
      ]
     },
     "metadata": {
      "needs_background": "light"
     },
     "output_type": "display_data"
    }
   ],
   "source": [
    "# Question 4\n",
    "plt.figure(figsize=(10, 5))\n",
    "\n",
    "plt.subplot(1, 2, 1)\n",
    "plt.boxplot(df['age'])\n",
    "plt.title(\"Set 1\")\n",
    "\n",
    "plt.subplot(1, 2, 2)\n",
    "plt.boxplot(df2['age'])\n",
    "plt.title(\"Set 2\")\n"
   ]
  },
  {
   "cell_type": "code",
   "execution_count": 29,
   "metadata": {},
   "outputs": [],
   "source": [
    "###Based on visual inspection, the two estimates seem to be the same. However, based on the numbers, only the median\n",
    "###and the mode remained the same because changing Cindy's age did not change the other ages\n",
    "###(i.e. the most common age (mode) or the order/position of where the original ages were \n",
    "###-- leaving the median the same)\n",
    "\n",
    "###The mean increased because Cindy became a year older, which caused the sum to increase. The variance and\n",
    "###standard deviation decreased because when Cindy became a year older, she became closer in age to her \n",
    "###older siblings. The difference of age between the siblings decreased, thus causing SD and variation also to\n",
    "###decrease. \n"
   ]
  },
  {
   "cell_type": "code",
   "execution_count": 56,
   "metadata": {},
   "outputs": [
    {
     "name": "stdout",
     "output_type": "stream",
     "text": [
      "mean= 9.0\n",
      "median= 10.0\n",
      "variance= 15.428571428571429\n",
      "sd= 3.927922024247863\n",
      "se= 1.6035674514745462\n"
     ]
    }
   ],
   "source": [
    "# Question 5 \n",
    "##Populate with new data\n",
    "df3 = pd.DataFrame()\n",
    "df3['name'] = [\"Greg\", \"Marcia\", \"Peter\", \"Jan\", \"Bobby\", \"Cindy\", \"\"]\n",
    "df3['age'] = [14, 12, 11, 10, 8, 7, 1]\n",
    "\n",
    "###Mean\n",
    "print(\"mean=\",np.mean(df3['age']))\n",
    "###Median\n",
    "print(\"median=\",np.median(df3['age']))\n",
    "###Mode(none) -- (\"mode=\",statistics.mode(df3['age']))\n",
    "###Variance\n",
    "print(\"variance=\",np.var(df3.age))\n",
    "###SD\n",
    "print(\"sd=\",np.std(df3.age))\n",
    "###SE\n",
    "print(\"se=\", np.std(df3['age'] ,ddof=1) / np.sqrt(len(df3['age'])))"
   ]
  },
  {
   "cell_type": "code",
   "execution_count": 54,
   "metadata": {},
   "outputs": [],
   "source": [
    "###If Oliver who was 8 when he joined was replaced with a 1-year old,\n",
    "###my choice of central tendency would be the median. The mean would not be accurate anymore as the age of 1 is\n",
    "###an outlier and skews the data down. Median would be the best indicator of where the values fall.\n",
    "###In this case, there is no mode because each individual has a unique age.\n",
    "###My choice of variance estimation would be standard deviation. The variation is extremely high due to the outlier\n",
    "###so standard deviation would be the best estimator of the differences between ages. "
   ]
  },
  {
   "cell_type": "code",
   "execution_count": 47,
   "metadata": {},
   "outputs": [],
   "source": [
    "# Question 5\n",
    "#20% -- 5% was an outlier and discarded bc it would have skewed data -- mean and median were both 20%\n"
   ]
  },
  {
   "cell_type": "code",
   "execution_count": null,
   "metadata": {},
   "outputs": [],
   "source": []
  }
 ],
 "metadata": {
  "kernelspec": {
   "display_name": "Python 3",
   "language": "python",
   "name": "python3"
  },
  "language_info": {
   "codemirror_mode": {
    "name": "ipython",
    "version": 3
   },
   "file_extension": ".py",
   "mimetype": "text/x-python",
   "name": "python",
   "nbconvert_exporter": "python",
   "pygments_lexer": "ipython3",
   "version": "3.7.1"
  }
 },
 "nbformat": 4,
 "nbformat_minor": 2
}
